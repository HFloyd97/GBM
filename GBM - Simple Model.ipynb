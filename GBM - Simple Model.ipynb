{
 "cells": [
  {
   "cell_type": "code",
   "execution_count": 71,
   "id": "64bb431d",
   "metadata": {},
   "outputs": [],
   "source": [
    "# Import the required modules\n",
    "from sklearn.datasets import load_iris\n",
    "from sklearn.metrics import accuracy_score\n",
    "from sklearn.model_selection import train_test_split\n",
    "import pandas as pd\n",
    "import numpy as np\n",
    "import xgboost as xgb"
   ]
  },
  {
   "cell_type": "code",
   "execution_count": 72,
   "id": "4526149f",
   "metadata": {},
   "outputs": [],
   "source": [
    "# define the iris data set\n",
    "iris = load_iris()"
   ]
  },
  {
   "cell_type": "code",
   "execution_count": 73,
   "id": "cc2b9931",
   "metadata": {},
   "outputs": [
    {
     "data": {
      "text/html": [
       "<div>\n",
       "<style scoped>\n",
       "    .dataframe tbody tr th:only-of-type {\n",
       "        vertical-align: middle;\n",
       "    }\n",
       "\n",
       "    .dataframe tbody tr th {\n",
       "        vertical-align: top;\n",
       "    }\n",
       "\n",
       "    .dataframe thead th {\n",
       "        text-align: right;\n",
       "    }\n",
       "</style>\n",
       "<table border=\"1\" class=\"dataframe\">\n",
       "  <thead>\n",
       "    <tr style=\"text-align: right;\">\n",
       "      <th></th>\n",
       "      <th>sepal length (cm)</th>\n",
       "      <th>sepal width (cm)</th>\n",
       "      <th>petal length (cm)</th>\n",
       "      <th>petal width (cm)</th>\n",
       "    </tr>\n",
       "  </thead>\n",
       "  <tbody>\n",
       "    <tr>\n",
       "      <th>0</th>\n",
       "      <td>5.1</td>\n",
       "      <td>3.5</td>\n",
       "      <td>1.4</td>\n",
       "      <td>0.2</td>\n",
       "    </tr>\n",
       "    <tr>\n",
       "      <th>1</th>\n",
       "      <td>4.9</td>\n",
       "      <td>3.0</td>\n",
       "      <td>1.4</td>\n",
       "      <td>0.2</td>\n",
       "    </tr>\n",
       "    <tr>\n",
       "      <th>2</th>\n",
       "      <td>4.7</td>\n",
       "      <td>3.2</td>\n",
       "      <td>1.3</td>\n",
       "      <td>0.2</td>\n",
       "    </tr>\n",
       "    <tr>\n",
       "      <th>3</th>\n",
       "      <td>4.6</td>\n",
       "      <td>3.1</td>\n",
       "      <td>1.5</td>\n",
       "      <td>0.2</td>\n",
       "    </tr>\n",
       "    <tr>\n",
       "      <th>4</th>\n",
       "      <td>5.0</td>\n",
       "      <td>3.6</td>\n",
       "      <td>1.4</td>\n",
       "      <td>0.2</td>\n",
       "    </tr>\n",
       "    <tr>\n",
       "      <th>...</th>\n",
       "      <td>...</td>\n",
       "      <td>...</td>\n",
       "      <td>...</td>\n",
       "      <td>...</td>\n",
       "    </tr>\n",
       "    <tr>\n",
       "      <th>145</th>\n",
       "      <td>6.7</td>\n",
       "      <td>3.0</td>\n",
       "      <td>5.2</td>\n",
       "      <td>2.3</td>\n",
       "    </tr>\n",
       "    <tr>\n",
       "      <th>146</th>\n",
       "      <td>6.3</td>\n",
       "      <td>2.5</td>\n",
       "      <td>5.0</td>\n",
       "      <td>1.9</td>\n",
       "    </tr>\n",
       "    <tr>\n",
       "      <th>147</th>\n",
       "      <td>6.5</td>\n",
       "      <td>3.0</td>\n",
       "      <td>5.2</td>\n",
       "      <td>2.0</td>\n",
       "    </tr>\n",
       "    <tr>\n",
       "      <th>148</th>\n",
       "      <td>6.2</td>\n",
       "      <td>3.4</td>\n",
       "      <td>5.4</td>\n",
       "      <td>2.3</td>\n",
       "    </tr>\n",
       "    <tr>\n",
       "      <th>149</th>\n",
       "      <td>5.9</td>\n",
       "      <td>3.0</td>\n",
       "      <td>5.1</td>\n",
       "      <td>1.8</td>\n",
       "    </tr>\n",
       "  </tbody>\n",
       "</table>\n",
       "<p>150 rows × 4 columns</p>\n",
       "</div>"
      ],
      "text/plain": [
       "     sepal length (cm)  sepal width (cm)  petal length (cm)  petal width (cm)\n",
       "0                  5.1               3.5                1.4               0.2\n",
       "1                  4.9               3.0                1.4               0.2\n",
       "2                  4.7               3.2                1.3               0.2\n",
       "3                  4.6               3.1                1.5               0.2\n",
       "4                  5.0               3.6                1.4               0.2\n",
       "..                 ...               ...                ...               ...\n",
       "145                6.7               3.0                5.2               2.3\n",
       "146                6.3               2.5                5.0               1.9\n",
       "147                6.5               3.0                5.2               2.0\n",
       "148                6.2               3.4                5.4               2.3\n",
       "149                5.9               3.0                5.1               1.8\n",
       "\n",
       "[150 rows x 4 columns]"
      ]
     },
     "execution_count": 73,
     "metadata": {},
     "output_type": "execute_result"
    }
   ],
   "source": [
    "# View data as a dataframe (Purely for visual purposes, not required for GBM)\n",
    "df = pd.DataFrame(data=iris.data, columns=iris.feature_names)\n",
    "df"
   ]
  },
  {
   "cell_type": "code",
   "execution_count": 74,
   "id": "1a18da85",
   "metadata": {},
   "outputs": [],
   "source": [
    "# Define the number of samples and the number of features\n",
    "numSamples, numFeatures = iris.data.shape"
   ]
  },
  {
   "cell_type": "code",
   "execution_count": 75,
   "id": "192bf982",
   "metadata": {},
   "outputs": [
    {
     "name": "stdout",
     "output_type": "stream",
     "text": [
      "150\n",
      "4\n",
      "['setosa', 'versicolor', 'virginica']\n"
     ]
    }
   ],
   "source": [
    "# View the number of samples and the number of features\n",
    "# View the target categories : 0 = setosa, 1 = versicolor, 2 = virginica\n",
    "print(numSamples)\n",
    "print(numFeatures)\n",
    "print(list(iris.target_names))"
   ]
  },
  {
   "cell_type": "code",
   "execution_count": 76,
   "id": "80856a44",
   "metadata": {},
   "outputs": [],
   "source": [
    "# Define the data to train on and the data to test on\n",
    "# x is our explanatory variables while y is our predictor variable\n",
    "# We train on 80% of the data and test on 20%\n",
    "# Shuffle the data 0 times before splitting it\n",
    "x_train, x_test, y_train, y_test = train_test_split(iris.data, iris.target, test_size = 0.2, random_state = 0)"
   ]
  },
  {
   "cell_type": "code",
   "execution_count": 77,
   "id": "e99cd50d",
   "metadata": {},
   "outputs": [],
   "source": [
    "# Define train and test by specifying the data and label to use\n",
    "train = xgb.DMatrix(x_train, label = y_train)\n",
    "test = xgb.DMatrix(x_test, label = y_test)"
   ]
  },
  {
   "cell_type": "code",
   "execution_count": 78,
   "id": "f1f7a3e3",
   "metadata": {},
   "outputs": [],
   "source": [
    "# Define the parameters and epochs for the model\n",
    "param = {'max_depth' : 4,               # maximum depth of a tree. Default: 6\n",
    "         'eta' : 0.3,                   # control the learning rate\n",
    "         'objective' : 'multi:softmax', # specify the learning task : multiclass classification\n",
    "         'num_class' : 3}               # specify the number of values for the predictor variable\n",
    "epochs = 10"
   ]
  },
  {
   "cell_type": "code",
   "execution_count": 79,
   "id": "2814500c",
   "metadata": {},
   "outputs": [],
   "source": [
    "# Create the model\n",
    "model = xgb.train(param, train, epochs)"
   ]
  },
  {
   "cell_type": "code",
   "execution_count": 80,
   "id": "b27d3cdf",
   "metadata": {},
   "outputs": [],
   "source": [
    "# Get the predictions\n",
    "predictions = model.predict(test)"
   ]
  },
  {
   "cell_type": "code",
   "execution_count": 81,
   "id": "3d0fad66",
   "metadata": {},
   "outputs": [
    {
     "name": "stdout",
     "output_type": "stream",
     "text": [
      "Prediction, Actual = (2.0, 2)\n",
      "Prediction, Actual = (1.0, 1)\n",
      "Prediction, Actual = (0.0, 0)\n",
      "Prediction, Actual = (2.0, 2)\n",
      "Prediction, Actual = (0.0, 0)\n",
      "Prediction, Actual = (2.0, 2)\n",
      "Prediction, Actual = (0.0, 0)\n",
      "Prediction, Actual = (1.0, 1)\n",
      "Prediction, Actual = (1.0, 1)\n",
      "Prediction, Actual = (1.0, 1)\n",
      "Prediction, Actual = (2.0, 2)\n",
      "Prediction, Actual = (1.0, 1)\n",
      "Prediction, Actual = (1.0, 1)\n",
      "Prediction, Actual = (1.0, 1)\n",
      "Prediction, Actual = (1.0, 1)\n",
      "Prediction, Actual = (0.0, 0)\n",
      "Prediction, Actual = (1.0, 1)\n",
      "Prediction, Actual = (1.0, 1)\n",
      "Prediction, Actual = (0.0, 0)\n",
      "Prediction, Actual = (0.0, 0)\n",
      "Prediction, Actual = (2.0, 2)\n",
      "Prediction, Actual = (1.0, 1)\n",
      "Prediction, Actual = (0.0, 0)\n",
      "Prediction, Actual = (0.0, 0)\n",
      "Prediction, Actual = (2.0, 2)\n",
      "Prediction, Actual = (0.0, 0)\n",
      "Prediction, Actual = (0.0, 0)\n",
      "Prediction, Actual = (1.0, 1)\n",
      "Prediction, Actual = (1.0, 1)\n",
      "Prediction, Actual = (0.0, 0)\n"
     ]
    }
   ],
   "source": [
    "# View the predictions and the actual values\n",
    "for i in zip(predictions, y_test):\n",
    "    print(f\"Prediction, Actual = {i}\")"
   ]
  },
  {
   "cell_type": "code",
   "execution_count": 82,
   "id": "886da4ca",
   "metadata": {},
   "outputs": [
    {
     "data": {
      "text/plain": [
       "1.0"
      ]
     },
     "execution_count": 82,
     "metadata": {},
     "output_type": "execute_result"
    }
   ],
   "source": [
    "# View the accuracy of the model\n",
    "accuracy_score(y_test, predictions)"
   ]
  }
 ],
 "metadata": {
  "kernelspec": {
   "display_name": "Python 3 (ipykernel)",
   "language": "python",
   "name": "python3"
  },
  "language_info": {
   "codemirror_mode": {
    "name": "ipython",
    "version": 3
   },
   "file_extension": ".py",
   "mimetype": "text/x-python",
   "name": "python",
   "nbconvert_exporter": "python",
   "pygments_lexer": "ipython3",
   "version": "3.8.3"
  }
 },
 "nbformat": 4,
 "nbformat_minor": 5
}
